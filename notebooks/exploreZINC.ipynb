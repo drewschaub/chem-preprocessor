{
 "cells": [
  {
   "cell_type": "markdown",
   "id": "f7d2a51a-3faa-429d-9c04-795202d3b548",
   "metadata": {},
   "source": [
    "## Notebook for data exploration of the ZINC library\n",
    "library imports"
   ]
  },
  {
   "cell_type": "code",
   "execution_count": 1,
   "id": "b4a717fe-2e06-41f1-963e-eed3c91b86e8",
   "metadata": {},
   "outputs": [],
   "source": [
    "from pathlib import Path\n",
    "from rdkit import Chem\n",
    "import matplotlib.pyplot as plt\n",
    "import numpy as np\n",
    "import os\n",
    "import pandas as pd\n",
    "import seaborn as sns\n",
    "import urllib\n",
    "import sys \n",
    "\n",
    "# local python\n",
    "sys.path.append(\"..\") # added!\n",
    "from src.utils import *"
   ]
  },
  {
   "cell_type": "markdown",
   "id": "d71091a2-5bd2-4dc6-966b-8dcc2c39bde8",
   "metadata": {},
   "source": [
    "### rdkit test\n",
    "Python API: https://www.rdkit.org/docs/api-docs.html\n",
    "\n",
    "just testing that rdkit is functioning, including visualization"
   ]
  },
  {
   "cell_type": "code",
   "execution_count": 2,
   "id": "70f0af85-152e-412f-aa47-f81a04f86062",
   "metadata": {},
   "outputs": [
    {
     "data": {
      "image/png": "[encoded data removed]",
      "text/plain": [
       "<rdkit.Chem.rdchem.Mol at 0x17db03c40>"
      ]
     },
     "execution_count": 2,
     "metadata": {},
     "output_type": "execute_result"
    }
   ],
   "source": [
    "Chem.MolFromSmiles('Cc1ccc(cc1NC(=O)C)C(=O)NCC(=O)N2CCCc3c2cccc3')"
   ]
  },
  {
   "cell_type": "markdown",
   "id": "6410d981-3f64-4b18-a261-e3d3bd2e07a5",
   "metadata": {},
   "source": [
    "### ZINC dataset\n",
    "The current ZINC dataset is over 750 million compounds. As this is just an early data exploration, an older and more manageable set can be found here: https://zinc12.docking.org/browse/subsets/\n",
    "\n",
    "I chose the largest dataset, which was All Purchasable compounds. Each subset has an excel file was available with properties (aka descriptor varaibles, molecular descriptors). The 'All Purchasable' file is here: https://zinc12.docking.org/db/bysubset/6/6_prop.xls"
   ]
  },
  {
   "cell_type": "code",
   "execution_count": 3,
   "id": "87c1c90c-9505-48e4-9180-eda8a1a28c3b",
   "metadata": {},
   "outputs": [],
   "source": [
    "downloadRoot = \"https://zinc12.docking.org/db/bysubset/\" # URLs need to be strings. We can't use pathlib\n",
    "dataPath = Path(\"..\", \"data\", \"ZINC\")\n",
    "propertiesPath = Path(dataPath, \"Properties\")\n",
    "SMILESPath = Path(dataPath, \"SMILES\")\n",
    "figuresPath = Path(\"..\", \"figures\", \"ZINC\")\n",
    "subsetID = str(6)\n",
    "subsetURL = downloadRoot + \"/\" + subsetID + \"/\"\n",
    "propertiesFile = subsetID + \"_prop.xls\"\n",
    "referenceSMILESFile = subsetID + \"_p0.smi.gz\"\n",
    "\n",
    "# Full URLs for properties spreadssheet and refererence SMILES\n",
    "propertiesURL = subsetURL + propertiesFile\n",
    "referenceSMILESURL = subsetURL +  referenceSMILESFile\n",
    "\n",
    "os.makedirs(figuresPath, exist_ok=True)\n",
    "os.makedirs(propertiesPath, exist_ok=True)\n",
    "os.makedirs(SMILESPath, exist_ok=True)"
   ]
  },
  {
   "cell_type": "markdown",
   "id": "3e1105f3-a6e9-4a6f-ba32-684a27df5f67",
   "metadata": {},
   "source": [
    "I anticipated I'll need to pull multiple files from the remote URL, so created a reusable function in ```../src/utils.py``` for future use. The properties excel files are relatively large at 1.6 GB, and on my local machine took 20 minutes to download. The SMILES datafiles which are simply a list of ASCII strings are ~10% of the spreadsheet size, so took ~2 minutes."
   ]
  },
  {
   "cell_type": "code",
   "execution_count": 6,
   "id": "e383af25-1c48-4e86-a4b2-6dd0482927c9",
   "metadata": {},
   "outputs": [],
   "source": [
    "fetchData(propertiesFile, subsetURL, propertiesPath) # fetches properties spreadsheet\n",
    "fetchData(referenceSMILESFile, subsetURL, SMILESPath) # fetches SMILES strings"
   ]
  },
  {
   "cell_type": "markdown",
   "id": "bc725e25-1dfb-4f32-8822-ec69bb0bd360",
   "metadata": {},
   "source": [
    "### Quick look at the data structure of the properties spreadsheet\n",
    "- 9 numeric features\n",
    "  - 4 continuous (float) features: ```MWT```, ```LogP```, ```Desolv_apolar```, ```Desolv_polar```\n",
    "  - 5 discrete (int) features: ```HBD```, ```HBA```, ```Charge```, ```NRB```, ```tPSA```\n",
    "- 2 categorical features"
   ]
  },
  {
   "cell_type": "code",
   "execution_count": null,
   "id": "4fc48ef6-c426-4efa-a964-9b961f2130c4",
   "metadata": {},
   "outputs": [],
   "source": [
    "propertiesFilePath = Path(dataPath, propertiesFile)\n",
    "\n",
    "df = pd.read_csv(propertiesFilePath, sep='\\t')\n",
    "df.head()"
   ]
  },
  {
   "cell_type": "code",
   "execution_count": null,
   "id": "94a94a46-e031-4d64-b683-5b9adef23943",
   "metadata": {},
   "outputs": [],
   "source": [
    "df.info()"
   ]
  },
  {
   "cell_type": "code",
   "execution_count": null,
   "id": "5a0c250f-87c3-430b-b87c-9ded3144f45f",
   "metadata": {},
   "outputs": [],
   "source": [
    "continuous_features = ['MWT', 'Desolv_polar', 'Desolv_apolar', 'LogP']\n",
    "numeric_features = ['tPSA',  'HBD', 'HBA', 'Charge', 'NRB']\n",
    "categorical_features = ['ZINC_ID', 'SMILES']\n",
    "\n",
    "print('continuous features')\n",
    "for feature in continuous_features:\n",
    "    print('{} has {} unique elements'.format(feature, df[feature].nunique()))\n",
    "\n",
    "print('\\nnumeric features')\n",
    "for feature in numeric_features:\n",
    "    print('{} has {} unique elements'.format(feature, df[feature].nunique()))"
   ]
  },
  {
   "cell_type": "code",
   "execution_count": null,
   "id": "d144b7b1-691c-421e-b759-76ae28a388e8",
   "metadata": {},
   "outputs": [],
   "source": [
    "df.describe().apply(lambda s: s.apply('{0:.4f}'.format))"
   ]
  },
  {
   "cell_type": "markdown",
   "id": "c2fbd877-23b5-4590-abec-2bdcd1f35216",
   "metadata": {},
   "source": [
    "### Looking for Correlations\n",
    "1. Pairplot\n",
    "2. Correlation matrices (heatmaps)\n",
    "\n",
    "The dataset is 16 million records, to reduce computation time, change `df` in line 6 to `df[::X]` where `X` is the step size to slice. If we wanted to avoid sampling bias `sklearn.model_selection.StratifiedShuffleSplit` allows a way for us to do stratified sampling. Ref: https://scikit-learn.org/stable/modules/classes.html#module-sklearn.model_selection"
   ]
  },
  {
   "cell_type": "code",
   "execution_count": null,
   "id": "60b9f37d-839e-4a48-81e3-fb1b44775eec",
   "metadata": {},
   "outputs": [],
   "source": [
    "# Commonly used plot settings\n",
    "plt.rcParams.update({'font.size': 6, 'xtick.labelsize': 8, 'ytick.labelsize': 8, \n",
    "                     'grid.linestyle': '-', 'grid.linewidth': .33, \n",
    "                     'legend.framealpha': 1, 'legend.facecolor': 'white', 'legend.shadow': False})\n",
    "\n",
    "g = sns.pairplot(df, diag_kind='kde', height=1.2, plot_kws={\"s\": 0.5})"
   ]
  },
  {
   "cell_type": "markdown",
   "id": "3a9de5e6-3fbe-46e5-89b6-21066e93516c",
   "metadata": {},
   "source": [
    "Correlation Matrices to go along with the pairplot\n",
    "`Pearson` is preferred. However, `Spearman` and `Kendall` correlation coefficients are based on rank, so are more robust to outliers and can handle some types of nonlinearities. Though these types of methods are generally used for smaller datasets and specific hypothesis tests. I just used Kendall and Spearman here due to the weird shape of `Charge` vs `Desolv_polar`. Pearson shows a coefficient of -0.35, where Kendall shows -0.81 due to the apparent non-linear relationship between the two descriptor variables (features). \n",
    "\n",
    "I would've guessed that molecular weight would've had a stronger relationship with the number of hydrogen bond donors (HBD), number of hydrgeon bond acceptors (HBA) and charge as the mass goes up. However, this was just a limited look, but for feature engineering could consider scaling properties by mass, area and/or volume of molecule. \n",
    "\n",
    "For calculating free-energy binding values often area works better than volume, where for large macromolecules (e.g. proteins) volume tends to work better [TO DO: Find the ref on area vs volume study]\n"
   ]
  },
  {
   "cell_type": "code",
   "execution_count": null,
   "id": "e9e43e1f-6c66-4649-909f-786dec41f01d",
   "metadata": {},
   "outputs": [],
   "source": [
    "methods = ['pearson', 'kendall', 'spearman']\n",
    "\n",
    "plt.rcParams.update({'font.size': 4, 'xtick.labelsize': 4, 'ytick.labelsize': 4})\n",
    "sns.set_style(\"whitegrid\")\n",
    "\n",
    "for method in methods:\n",
    "    # generate figure and axes\n",
    "    fig = plt.figure(figsize=(3, 2), dpi=300)\n",
    "    ax = fig.add_axes([0.12, 0.12, 0.78, 0.78])\n",
    "    \n",
    "    # Compute the correlation matrix and generate upper triangle mask\n",
    "    corr = df[::50].corr(method=method)\n",
    "    mask = np.triu(np.ones_like(corr, dtype=bool))\n",
    "\n",
    "    # Draw the heatmap with the mask and correct aspect ratio\n",
    "    heatmap = sns.heatmap(corr, mask=mask, cmap='seismic', \n",
    "                          vmin=-1, vmax=1, center=0, \n",
    "                          annot=True, fmt='.2f', \n",
    "                          square=True, linewidths=.5, \n",
    "                          cbar_kws={\"shrink\": .5})\n",
    "    heatmap.set_title('{} correlation matrix'.format(method), fontdict={'fontsize':6}, pad=16)\n",
    "    plt.savefig(Path(figuresPath, '{}_corr.png'.format(method)), dpi=300, bbox_inches='tight')"
   ]
  },
  {
   "cell_type": "markdown",
   "id": "3f09e7f5-db49-452a-8968-1442cc3ee673",
   "metadata": {},
   "source": [
    "A closer look at the relationships between `tPSA` and `HBA` & `Charge` and `Desolv_polar`"
   ]
  },
  {
   "cell_type": "code",
   "execution_count": null,
   "id": "763cc8aa-978e-4d50-a616-4909be19184c",
   "metadata": {},
   "outputs": [],
   "source": [
    "sns.set(style='darkgrid')\n",
    "plt.rcParams.update({'font.size': 4, 'xtick.labelsize': 4, 'ytick.labelsize': 4})\n",
    "\n",
    "fig = plt.figure(figsize=(3, 2), dpi=300)\n",
    "ax = fig.add_axes([0.12, 0.12, 0.78, 0.78])\n",
    "\n",
    "ax = sns.scatterplot(data=df, x=\"tPSA\", y=\"HBA\", s=1)"
   ]
  },
  {
   "cell_type": "code",
   "execution_count": null,
   "id": "97d7a0a5-bc5f-4079-9e2d-e7c6384f8a3c",
   "metadata": {},
   "outputs": [],
   "source": [
    "sns.set(style='darkgrid')\n",
    "plt.rcParams.update({'font.size': 4, 'xtick.labelsize': 4, 'ytick.labelsize': 4})\n",
    "\n",
    "fig = plt.figure(figsize=(3, 2), dpi=300)\n",
    "ax = fig.add_axes([0.12, 0.12, 0.78, 0.78])\n",
    "\n",
    "ax = sns.scatterplot(data=df, x=\"Desolv_polar\", y=\"Charge\", s=1)"
   ]
  },
  {
   "cell_type": "markdown",
   "id": "86e91e35-068c-46f0-acef-dce6b2e2aeed",
   "metadata": {},
   "source": [
    "Looking at the countplot of charge on logscale we see that negative charged values are over-represented for -4 and -5 vs 4, 5 and 6. So if we were doing anything with charge we would need to be careful. "
   ]
  },
  {
   "cell_type": "code",
   "execution_count": null,
   "id": "4a862eb7-fc31-4d38-a8b4-ea1436461d34",
   "metadata": {},
   "outputs": [],
   "source": [
    "sns.set(style='darkgrid')\n",
    "plt.rcParams.update({'font.size': 4, 'xtick.labelsize': 4, 'ytick.labelsize': 4})\n",
    "\n",
    "fig = plt.figure(figsize=(2, 1), dpi=300)\n",
    "ax = fig.add_axes([0.12, 0.12, 0.78, 0.78])\n",
    "\n",
    "\n",
    "ax = sns.countplot(x=df['Charge'], palette='seismic', edgecolor='black', linewidth=0.5)\n",
    "plt.yscale('log')"
   ]
  },
  {
   "cell_type": "markdown",
   "id": "0b7dc8e5-4a0f-4bf1-854b-46a84ff3541e",
   "metadata": {},
   "source": [
    "### Feature Engineering and a Look at the Structures\n",
    "\n",
    "Molecules in the ZINC15 dataset can be downloaded as: \n",
    "- flexibase\n",
    "- mol2\n",
    "- SDF\n",
    "- SMILES (isomeric)\n",
    "\n",
    "I prefer to use InChi, as that will allow me to use other libraries (e.g. NIST17/20, PubChem). I will use the SMILES format and convert to InChi. However, I understand that conversion of one molecular format or another results in a loss of information as none of them are comprehensive, and are designed for specific purposes. I will need to do a literature search for a way to perform QA for SMILES <-> InChi conversions, and will consider some QA strategies on my own. \n",
    "\n",
    "The molecules are treated as being in neutral acidic/basic conditions (pH = 7), but there are three additional representations for some molecules:\n",
    "- 4.5 to 7.0 (low pH): docking to a postively charged binding site\n",
    "- 5.75 to 8.25 (medium pH): the set for most dockers. \n",
    "- 7.0 to 9.5 (high pH): docking to metals\n",
    "\n",
    "Reference warns that you can download individiaul representations or all, though warns not to download All and a single representation to avoid duplicates. It was recommended that cheminformaticians may just want the single representation. As I'm exploring this dataset with no real objective in mind beyond just familiarizing myself with the dataset, I'm just going to use the neutral/usual single representation. I create an action item though in the repo to revisit pKa predictions so I can pull in some of my code from my graduate school research when i did pKa."
   ]
  },
  {
   "cell_type": "code",
   "execution_count": null,
   "id": "268a65ac-b6b0-400e-868d-0003f154aa4c",
   "metadata": {},
   "outputs": [],
   "source": [
    "fetch_property_data(propertiesURL, dataPath)"
   ]
  },
  {
   "cell_type": "code",
   "execution_count": null,
   "id": "240c790f-3478-48a1-85f0-fe222dd041d6",
   "metadata": {},
   "outputs": [],
   "source": []
  },
  {
   "cell_type": "code",
   "execution_count": null,
   "id": "4aba6e4a-960e-4c39-b35e-4efec4d63c1a",
   "metadata": {},
   "outputs": [],
   "source": []
  },
  {
   "cell_type": "code",
   "execution_count": null,
   "id": "750609c0-a0ff-4ac0-9d7e-53c6a9605b2a",
   "metadata": {},
   "outputs": [],
   "source": [
    "feature = 'tPSA'\n",
    "feature_list = df[feature].tolist()\n",
    "print(len(feature_list))\n",
    "\n",
    "plt.rcParams.update({'font.size': 4,\n",
    "                     'xtick.labelsize': 4,\n",
    "                     'ytick.labelsize': 4,\n",
    "                     'grid.linestyle': '-',\n",
    "                     'grid.linewidth': .33,\n",
    "                     'legend.framealpha': 1,\n",
    "                     'legend.facecolor': 'white',\n",
    "                     'legend.shadow': False})\n",
    "\n",
    "fig = plt.figure(figsize=(5,2), dpi=300)\n",
    "ax = fig.add_axes([0.12, 0.12, 0.78, 0.78])\n",
    "\n",
    "binwidth = 5\n",
    "# binwidth = binwidthDict[feature]\n",
    "plt.title(('{}, [min: {:2f}, min: {:2f}, min: {:2f}] bindwith={}'.format(feature, df[feature].min(), df[feature].mean(), df[feature].max(), binwidth)))\n",
    "\n",
    "ax = sns.histplot(x=feature_list, edgecolor='k', linewidth=0.25, binwidth=binwidth)\n",
    "\n",
    "mids = [rect.get_x() + rect.get_width() / 2 for rect in ax.patches]\n",
    "edges = [rect.get_x() for rect in ax.patches] + [ax.patches[-1].get_x() + ax.patches[-1].get_width()]\n",
    "ax.set_xticks(sorted(set(edges)))\n",
    "\n",
    "ax.tick_params(axis='x', rotation=90, labelsize=4, color='black', grid_color='grey', grid_alpha=0.5)\n",
    "\n",
    "plt.savefig('figures/Dist_feature_{}.png'.format(feature), dpi=300, bbox_inches='tight')"
   ]
  },
  {
   "cell_type": "code",
   "execution_count": null,
   "id": "8fd55fd0-7c57-421f-af8d-4e33b1903525",
   "metadata": {},
   "outputs": [],
   "source": [
    "features = ['MWT', 'LogP', 'Desolv_apolar', 'Desolv_polar', 'tPSA']\n",
    "\n",
    "binwidthDict = {'MWT': 10,\n",
    "                'LogP': 0.4,\n",
    "                'Desolv_apolar': 1.5,\n",
    "                'Desolv_polar': 10,\n",
    "                'tPSA': 5}\n",
    "\n",
    "for feature in features:\n",
    "    plt.rcParams.update({'font.size': 4,\n",
    "                         'xtick.labelsize': 4,\n",
    "                         'ytick.labelsize': 4,\n",
    "                         'grid.linestyle': '-',\n",
    "                         'grid.linewidth': .33,\n",
    "                         'legend.framealpha': 1,\n",
    "                         'legend.facecolor': 'white',\n",
    "                         'legend.shadow': False})\n",
    "    \n",
    "    fig = plt.figure(figsize=(5,2), dpi=300)\n",
    "    ax = fig.add_axes([0.12, 0.12, 0.78, 0.78])\n",
    "    \n",
    "    binwidth = binwidthDict[feature]\n",
    "    plt.title(('{}, [min: {:.2f}, min: {:.2f}, min: {:.2f}] bindwith={}'.format(feature, df[feature].min(), df[feature].mean(), df[feature].max(), binwidth)))\n",
    "    \n",
    "    ax = sns.histplot(data=df, x=feature, edgecolor='k', linewidth=0.25, binwidth=binwidth)\n",
    "    \n",
    "    mids = [rect.get_x() + rect.get_width() / 2 for rect in ax.patches]\n",
    "    edges = [rect.get_x() for rect in ax.patches] + [ax.patches[-1].get_x() + ax.patches[-1].get_width()]\n",
    "    ax.set_xticks(sorted(set(edges)))\n",
    "    \n",
    "    ax.tick_params(axis='x', rotation=90, labelsize=4, color='black', grid_color='grey', grid_alpha=0.5)\n",
    "    \n",
    "    plt.savefig('figures/Dist_feature_{}.png'.format(feature), dpi=300, bbox_inches='tight')"
   ]
  },
  {
   "cell_type": "code",
   "execution_count": null,
   "id": "b9554f37-419e-4462-9a1d-f45545214c81",
   "metadata": {},
   "outputs": [],
   "source": [
    "feature = 'HBD'\n",
    "feature_list = sorted(df[feature].tolist())\n",
    "print(len(feature_list))\n",
    "\n",
    "\n",
    "\n",
    "plt.rcParams.update({'font.size': 4,\n",
    "                     'xtick.labelsize': 4,\n",
    "                     'ytick.labelsize': 4,\n",
    "                     'grid.linestyle': '-',\n",
    "                     'grid.linewidth': .33,\n",
    "                     'legend.framealpha': 1,\n",
    "                     'legend.facecolor': 'white',\n",
    "                     'legend.shadow': False})\n",
    "\n",
    "fig = plt.figure(figsize=(5,2), dpi=300)\n",
    "ax = fig.add_axes([0.12, 0.12, 0.78, 0.78])\n",
    "\n",
    "binwidth = 5\n",
    "# binwidth = binwidthDict[feature]\n",
    "plt.title(('{}, [min: {:2f}, min: {:2f}, min: {:2f}] bindwith={}'.format(feature, df[feature].min(), df[feature].mean(), df[feature].max(), binwidth)))\n",
    "\n",
    "ax = sns.countplot(x=feature_list, edgecolor='k', linewidth=0.25)\n",
    "\n",
    "mids = [rect.get_x() + rect.get_width() / 2 for rect in ax.patches]\n",
    "edges = [rect.get_x() for rect in ax.patches] + [ax.patches[-1].get_x() + ax.patches[-1].get_width()]\n",
    "ax.set_xticks(sorted(set(edges)))\n",
    "\n",
    "ax.tick_params(axis='x', rotation=90, labelsize=4, color='black', grid_color='grey', grid_alpha=0.5)\n",
    "\n",
    "plt.savefig('figures/Dist_feature_{}.png'.format(feature), dpi=300, bbox_inches='tight')"
   ]
  },
  {
   "cell_type": "code",
   "execution_count": null,
   "id": "71947017-92cd-4596-9db1-c4ff509e3cec",
   "metadata": {},
   "outputs": [],
   "source": [
    "plt.rcParams.update({'font.size': 10,\n",
    "                     'xtick.labelsize': 10,\n",
    "                     'ytick.labelsize': 10,\n",
    "                     'grid.linestyle': '-',\n",
    "                     'grid.linewidth': .33,\n",
    "                     'legend.framealpha': 1,\n",
    "                     'legend.facecolor': 'white',\n",
    "                     'legend.shadow': False})\n",
    "\n",
    "# Compute the correlation matrix\n",
    "corr = df.corr()\n",
    "\n",
    "# Generate a mask for the upper triangle\n",
    "mask = np.triu(np.ones_like(corr, dtype=bool))\n",
    "\n",
    "# Set up the matplotlib figure\n",
    "f, ax = plt.subplots(figsize=(11, 9))\n",
    "\n",
    "# Draw the heatmap with the mask and correct aspect ratio\n",
    "sns.heatmap(corr, mask=mask, cmap='seismic', vmin=-1, vmax=1, center=0, annot=True, fmt='.2f', square=True, linewidths=.5, cbar_kws={\"shrink\": .5})"
   ]
  }
 ],
 "metadata": {
  "kernelspec": {
   "display_name": "Python 3 (ipykernel)",
   "language": "python",
   "name": "python3"
  },
  "language_info": {
   "codemirror_mode": {
    "name": "ipython",
    "version": 3
   },
   "file_extension": ".py",
   "mimetype": "text/x-python",
   "name": "python",
   "nbconvert_exporter": "python",
   "pygments_lexer": "ipython3",
   "version": "3.9.6"
  }
 },
 "nbformat": 4,
 "nbformat_minor": 5
}
